{
 "cells": [
  {
   "cell_type": "code",
   "execution_count": null,
   "id": "3c4ca064",
   "metadata": {},
   "outputs": [
    {
     "name": "stdout",
     "output_type": "stream",
     "text": [
      "Hello\n"
     ]
    }
   ],
   "source": [
    "# chapter 8 函数\n",
    "def greet_user():\n",
    "    \"\"\"显示简单问候语\"\"\"\n",
    "    print(\"Hello\")\n",
    "\n",
    "greet_user()"
   ]
  },
  {
   "cell_type": "code",
   "execution_count": 3,
   "id": "8ebce51c",
   "metadata": {},
   "outputs": [
    {
     "name": "stdout",
     "output_type": "stream",
     "text": [
      "Hello, William!\n"
     ]
    }
   ],
   "source": [
    "def greet_user(username):\n",
    "    \"\"\"显示简单问候语\"\"\"\n",
    "    print(\"Hello, \" + username.title() + \"!\") \n",
    "\n",
    "greet_user(input())"
   ]
  },
  {
   "cell_type": "code",
   "execution_count": 4,
   "id": "f728458a",
   "metadata": {},
   "outputs": [
    {
     "name": "stdout",
     "output_type": "stream",
     "text": [
      "Hello, world.\n"
     ]
    }
   ],
   "source": [
    "def display_message():\n",
    "    print(\"Hello, world.\")\n",
    "\n",
    "display_message()"
   ]
  },
  {
   "cell_type": "code",
   "execution_count": 5,
   "id": "26359f59",
   "metadata": {},
   "outputs": [
    {
     "name": "stdout",
     "output_type": "stream",
     "text": [
      "One of my favorite book is Pride and Prejudice.\n"
     ]
    }
   ],
   "source": [
    "def favorite_book(title):\n",
    "    print(\"One of my favorite book is \" + title + '.')\n",
    "\n",
    "favorite_book('Pride and Prejudice')"
   ]
  },
  {
   "cell_type": "code",
   "execution_count": 11,
   "id": "4ba1178b",
   "metadata": {},
   "outputs": [
    {
     "name": "stdout",
     "output_type": "stream",
     "text": [
      "Hamster\n",
      "Harry\n",
      "\n",
      "Dog\n",
      "Willie\n",
      "\n",
      "Hamster\n",
      "Harry\n",
      "\n"
     ]
    }
   ],
   "source": [
    "def describe_pet(animal_type, pet_name):\n",
    "    \"\"\"显示宠物信息\"\"\"\n",
    "    print(animal_type.title())\n",
    "    print(pet_name.title() + '\\n')\n",
    "\n",
    "# 位置实参\n",
    "describe_pet('hamster', 'harry')\n",
    "describe_pet('dog', 'willie')\n",
    "\n",
    "# 关键字实参\n",
    "describe_pet(pet_name = 'harry', animal_type = 'hamster')"
   ]
  },
  {
   "cell_type": "code",
   "execution_count": 14,
   "id": "8d164211",
   "metadata": {},
   "outputs": [
    {
     "name": "stdout",
     "output_type": "stream",
     "text": [
      "Dog\n",
      "Willie\n",
      "\n"
     ]
    }
   ],
   "source": [
    "# 默认值\n",
    "def describe_pet(pet_name, animal_type = 'dog'):\n",
    "    \"\"\"显示宠物信息\"\"\"\n",
    "    print(animal_type.title())\n",
    "    print(pet_name.title() + '\\n')\n",
    "\n",
    "describe_pet(pet_name = \"willie\")"
   ]
  },
  {
   "cell_type": "code",
   "execution_count": null,
   "id": "a913addc",
   "metadata": {},
   "outputs": [],
   "source": []
  }
 ],
 "metadata": {
  "kernelspec": {
   "display_name": "Python 3",
   "language": "python",
   "name": "python3"
  },
  "language_info": {
   "codemirror_mode": {
    "name": "ipython",
    "version": 3
   },
   "file_extension": ".py",
   "mimetype": "text/x-python",
   "name": "python",
   "nbconvert_exporter": "python",
   "pygments_lexer": "ipython3",
   "version": "3.13.4"
  }
 },
 "nbformat": 4,
 "nbformat_minor": 5
}
