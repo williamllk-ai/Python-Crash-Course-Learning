{
 "cells": [
  {
   "cell_type": "code",
   "execution_count": 1,
   "id": "413d86f0",
   "metadata": {},
   "outputs": [
    {
     "name": "stdout",
     "output_type": "stream",
     "text": [
      "abc\n"
     ]
    }
   ],
   "source": [
    "name = \"abc\"\n",
    "print(name)"
   ]
  },
  {
   "cell_type": "code",
   "execution_count": 2,
   "id": "8339b00b",
   "metadata": {},
   "outputs": [
    {
     "name": "stdout",
     "output_type": "stream",
     "text": [
      "abc\n",
      "def\n"
     ]
    }
   ],
   "source": [
    "name = \"abc\"\n",
    "print(name)\n",
    "name = \"def\"\n",
    "print(name)"
   ]
  },
  {
   "cell_type": "code",
   "execution_count": 3,
   "id": "67b723b0",
   "metadata": {},
   "outputs": [
    {
     "name": "stdout",
     "output_type": "stream",
     "text": [
      "Ada Lovelace\n",
      "ADA LOVELACE\n",
      "ada lovelace\n"
     ]
    }
   ],
   "source": [
    "name = \"ada lovelace\"\n",
    "print(name.title())\n",
    "print(name.upper())\n",
    "print(name.lower())"
   ]
  },
  {
   "cell_type": "code",
   "execution_count": 9,
   "id": "066ce2b5",
   "metadata": {},
   "outputs": [
    {
     "name": "stdout",
     "output_type": "stream",
     "text": [
      "ada lovelace\n",
      "Hello, Ada Lovelace!\n"
     ]
    }
   ],
   "source": [
    "first_name = \"ada\"\n",
    "last_name = \"lovelace\"\n",
    "full_name = first_name + \" \" + last_name\n",
    "print(full_name)\n",
    "message = \"Hello, \" + full_name.title() + \"!\"\n",
    "print(message)"
   ]
  },
  {
   "cell_type": "code",
   "execution_count": 13,
   "id": "1cdd4238",
   "metadata": {},
   "outputs": [
    {
     "name": "stdout",
     "output_type": "stream",
     "text": [
      "Python\n",
      "\tPython\n",
      "\t\tPython\n",
      "Languages:\n",
      "Python\n",
      "C\n",
      "JavaScript\n",
      "Languages:\n",
      "\tPython\n",
      "\tC\n",
      "\tJavaScript\n"
     ]
    }
   ],
   "source": [
    "print(\"Python\")\n",
    "print(\"\\tPython\")\n",
    "print(\"\\t\\tPython\")\n",
    "print(\"Languages:\\nPython\\nC\\nJavaScript\")\n",
    "print(\"Languages:\\n\\tPython\\n\\tC\\n\\tJavaScript\")"
   ]
  },
  {
   "cell_type": "code",
   "execution_count": null,
   "id": "5205ad2c",
   "metadata": {},
   "outputs": [
    {
     "data": {
      "text/plain": [
       "'Python '"
      ]
     },
     "execution_count": 16,
     "metadata": {},
     "output_type": "execute_result"
    }
   ],
   "source": [
    "language = 'Python '\n",
    "language"
   ]
  },
  {
   "cell_type": "code",
   "execution_count": 18,
   "id": "ed8dd3e9",
   "metadata": {},
   "outputs": [
    {
     "data": {
      "text/plain": [
       "'Python'"
      ]
     },
     "execution_count": 18,
     "metadata": {},
     "output_type": "execute_result"
    }
   ],
   "source": [
    "language = 'Python '\n",
    "language.rstrip()"
   ]
  },
  {
   "cell_type": "code",
   "execution_count": 21,
   "id": "e5ed29f0",
   "metadata": {},
   "outputs": [
    {
     "data": {
      "text/plain": [
       "'Python'"
      ]
     },
     "execution_count": 21,
     "metadata": {},
     "output_type": "execute_result"
    }
   ],
   "source": [
    "language = 'Python '\n",
    "language = language.rstrip()\n",
    "# rstrip 去除右空格 lstrip 去除左空格 strip 去除左右空格\n",
    "language"
   ]
  },
  {
   "cell_type": "code",
   "execution_count": 20,
   "id": "e38ac309",
   "metadata": {},
   "outputs": [
    {
     "data": {
      "text/plain": [
       "'Python'"
      ]
     },
     "execution_count": 20,
     "metadata": {},
     "output_type": "execute_result"
    }
   ],
   "source": [
    "language = ' Python '\n",
    "language = language.strip()\n",
    "language"
   ]
  },
  {
   "cell_type": "code",
   "execution_count": 25,
   "id": "ecb0f32a",
   "metadata": {},
   "outputs": [
    {
     "name": "stdout",
     "output_type": "stream",
     "text": [
      "One of Python's strengths is its diverse community.\n"
     ]
    }
   ],
   "source": [
    "message = \"One of Python's strengths is its diverse community.\"\n",
    "print(message)"
   ]
  },
  {
   "cell_type": "code",
   "execution_count": 29,
   "id": "2e080b62",
   "metadata": {},
   "outputs": [
    {
     "name": "stdout",
     "output_type": "stream",
     "text": [
      "Hello Eric, would you like to learn some Python today?\n",
      "Eric\n",
      "ERIC\n",
      "eric\n"
     ]
    }
   ],
   "source": [
    "name = \"Eric\" \n",
    "message = \"Hello \" + name + \", would you like to learn some Python today?\"\n",
    "print(message)\n",
    "print(name.title())\n",
    "print(name.upper())\n",
    "print(name.lower())"
   ]
  },
  {
   "cell_type": "code",
   "execution_count": 31,
   "id": "cc455156",
   "metadata": {},
   "outputs": [
    {
     "name": "stdout",
     "output_type": "stream",
     "text": [
      "Albert Einstein once said, \"A person who never made a mistake never tried anything new.\"\n"
     ]
    }
   ],
   "source": [
    "famous_person = \"Albert Einstein\"\n",
    "message = famous_person + ' once said, \"A person who never made a mistake never tried anything new.\"'\n",
    "print(message)"
   ]
  },
  {
   "cell_type": "code",
   "execution_count": 33,
   "id": "e8bcb203",
   "metadata": {},
   "outputs": [
    {
     "name": "stdout",
     "output_type": "stream",
     "text": [
      " Albert\n",
      "\tEinstein \n",
      "Albert\n",
      "\tEinstein \n",
      " Albert\n",
      "\tEinstein\n",
      "Albert\n",
      "\tEinstein\n"
     ]
    }
   ],
   "source": [
    "name = \" Albert\\n\\tEinstein \"\n",
    "print(name)\n",
    "print(name.lstrip())\n",
    "print(name.rstrip())\n",
    "print(name.strip())"
   ]
  },
  {
   "cell_type": "code",
   "execution_count": 34,
   "id": "b7474909",
   "metadata": {},
   "outputs": [
    {
     "data": {
      "text/plain": [
       "6"
      ]
     },
     "execution_count": 34,
     "metadata": {},
     "output_type": "execute_result"
    }
   ],
   "source": [
    "3+3"
   ]
  },
  {
   "cell_type": "code",
   "execution_count": 36,
   "id": "e38b0a98",
   "metadata": {},
   "outputs": [
    {
     "data": {
      "text/plain": [
       "9"
      ]
     },
     "execution_count": 36,
     "metadata": {},
     "output_type": "execute_result"
    }
   ],
   "source": [
    "3 ** 2  #**表示乘方运算"
   ]
  },
  {
   "cell_type": "code",
   "execution_count": 40,
   "id": "0154f3bd",
   "metadata": {},
   "outputs": [
    {
     "data": {
      "text/plain": [
       "1.5"
      ]
     },
     "execution_count": 40,
     "metadata": {},
     "output_type": "execute_result"
    }
   ],
   "source": [
    "0.1 + 0.2\n",
    "3 / 2"
   ]
  },
  {
   "cell_type": "code",
   "execution_count": 39,
   "id": "13447f6c",
   "metadata": {},
   "outputs": [
    {
     "name": "stdout",
     "output_type": "stream",
     "text": [
      "Happy 23rd Birthday!\n"
     ]
    }
   ],
   "source": [
    "age = 23\n",
    "message = \"Happy \" + str(age) + \"rd Birthday!\"\n",
    "print(message)"
   ]
  },
  {
   "cell_type": "code",
   "execution_count": 45,
   "id": "88b0d9e7",
   "metadata": {},
   "outputs": [
    {
     "name": "stdout",
     "output_type": "stream",
     "text": [
      "8\n",
      "I love number 6!\n"
     ]
    }
   ],
   "source": [
    "# 注释\n",
    "print(5 + 3)\n",
    "favourite_number = 6\n",
    "message = \"I love number \" + str(favourite_number) + \"!\"\n",
    "print(message)"
   ]
  },
  {
   "cell_type": "code",
   "execution_count": 46,
   "id": "044897fc",
   "metadata": {},
   "outputs": [
    {
     "name": "stdout",
     "output_type": "stream",
     "text": [
      "The Zen of Python, by Tim Peters\n",
      "\n",
      "Beautiful is better than ugly.\n",
      "Explicit is better than implicit.\n",
      "Simple is better than complex.\n",
      "Complex is better than complicated.\n",
      "Flat is better than nested.\n",
      "Sparse is better than dense.\n",
      "Readability counts.\n",
      "Special cases aren't special enough to break the rules.\n",
      "Although practicality beats purity.\n",
      "Errors should never pass silently.\n",
      "Unless explicitly silenced.\n",
      "In the face of ambiguity, refuse the temptation to guess.\n",
      "There should be one-- and preferably only one --obvious way to do it.\n",
      "Although that way may not be obvious at first unless you're Dutch.\n",
      "Now is better than never.\n",
      "Although never is often better than *right* now.\n",
      "If the implementation is hard to explain, it's a bad idea.\n",
      "If the implementation is easy to explain, it may be a good idea.\n",
      "Namespaces are one honking great idea -- let's do more of those!\n"
     ]
    }
   ],
   "source": [
    "import this"
   ]
  },
  {
   "cell_type": "code",
   "execution_count": 51,
   "id": "6ca87cc1",
   "metadata": {},
   "outputs": [
    {
     "name": "stdout",
     "output_type": "stream",
     "text": [
      "['trek', 'connondale', 'redline', 'specialized']\n",
      "trek\n",
      "Trek\n",
      "specialized\n",
      "My first bicycles was a Trek.\n"
     ]
    }
   ],
   "source": [
    "# 列表\n",
    "bicycles = ['trek', 'connondale', 'redline', 'specialized']\n",
    "print(bicycles)\n",
    "print(bicycles[0])\n",
    "print(bicycles[0].title())\n",
    "print(bicycles[-1]) #-1表示最后一个元素\n",
    "\n",
    "message = \"My first bicycles was a \" + bicycles[0].title() + \".\"\n",
    "print(message)"
   ]
  },
  {
   "cell_type": "code",
   "execution_count": 53,
   "id": "0c775ef2",
   "metadata": {},
   "outputs": [
    {
     "name": "stdout",
     "output_type": "stream",
     "text": [
      "Amily\n",
      "Hello, Amily!\n"
     ]
    }
   ],
   "source": [
    "names = ['amily', 'bill', 'chris', 'dick']\n",
    "print(names[0].title())\n",
    "message = \"Hello, \" + names[0].title() + \"!\"\n",
    "print(message)"
   ]
  },
  {
   "cell_type": "code",
   "execution_count": 56,
   "id": "69cb68d3",
   "metadata": {},
   "outputs": [
    {
     "name": "stdout",
     "output_type": "stream",
     "text": [
      "['honda', 'yamaha', 'suzuki']\n",
      "['honda', 'yamaha', 'suzuki', 'ducati']\n"
     ]
    }
   ],
   "source": [
    "motorcycles = ['honda', 'yamaha', 'suzuki']\n",
    "print(motorcycles)\n",
    "\n",
    "#motorcycles[0] = 'ducati'\n",
    "#print(motorcycles)\n",
    "\n",
    "motorcycles.append('ducati')\n",
    "print(motorcycles)"
   ]
  },
  {
   "cell_type": "code",
   "execution_count": 57,
   "id": "5c321688",
   "metadata": {},
   "outputs": [
    {
     "name": "stdout",
     "output_type": "stream",
     "text": [
      "['honda', 'yamaha', 'suzuki']\n"
     ]
    }
   ],
   "source": [
    "motorcycles = []\n",
    "motorcycles.append('honda')\n",
    "motorcycles.append('yamaha')\n",
    "motorcycles.append('suzuki')\n",
    "\n",
    "print(motorcycles)"
   ]
  },
  {
   "cell_type": "code",
   "execution_count": 58,
   "id": "d7cbb392",
   "metadata": {},
   "outputs": [
    {
     "name": "stdout",
     "output_type": "stream",
     "text": [
      "['ducati', 'honda', 'yamaha', 'suzuki']\n"
     ]
    }
   ],
   "source": [
    "motorcycles = ['honda', 'yamaha', 'suzuki']\n",
    "\n",
    "motorcycles.insert(0, 'ducati')\n",
    "print(motorcycles)"
   ]
  },
  {
   "cell_type": "code",
   "execution_count": 59,
   "id": "f207d0a5",
   "metadata": {},
   "outputs": [
    {
     "name": "stdout",
     "output_type": "stream",
     "text": [
      "['honda', 'yamaha', 'suzuki']\n",
      "['yamaha', 'suzuki']\n"
     ]
    }
   ],
   "source": [
    "motorcycles = ['honda', 'yamaha', 'suzuki']\n",
    "print(motorcycles)\n",
    "\n",
    "del motorcycles[0]\n",
    "print(motorcycles)"
   ]
  },
  {
   "cell_type": "code",
   "execution_count": 60,
   "id": "61d36cf1",
   "metadata": {},
   "outputs": [
    {
     "name": "stdout",
     "output_type": "stream",
     "text": [
      "['honda', 'yamaha', 'suzuki']\n",
      "['honda', 'yamaha']\n",
      "suzuki\n"
     ]
    }
   ],
   "source": [
    "motorcycles = ['honda', 'yamaha', 'suzuki']\n",
    "print(motorcycles)\n",
    "\n",
    "popped_motorcycle = motorcycles.pop()\n",
    "print(motorcycles)\n",
    "print(popped_motorcycle)"
   ]
  },
  {
   "cell_type": "code",
   "execution_count": 61,
   "id": "87801a72",
   "metadata": {},
   "outputs": [
    {
     "name": "stdout",
     "output_type": "stream",
     "text": [
      "['honda', 'yamaha', 'suzuki']\n",
      "The first motorcycle I owned was a Honda.\n"
     ]
    }
   ],
   "source": [
    "motorcycles = ['honda', 'yamaha', 'suzuki']\n",
    "print(motorcycles)\n",
    "\n",
    "first_owned = motorcycles.pop(0)\n",
    "print('The first motorcycle I owned was a ' + first_owned.title() + '.')"
   ]
  },
  {
   "cell_type": "code",
   "execution_count": 63,
   "id": "2bd58513",
   "metadata": {},
   "outputs": [
    {
     "name": "stdout",
     "output_type": "stream",
     "text": [
      "['honda', 'yamaha', 'suzuki']\n",
      "['yamaha', 'suzuki']\n"
     ]
    }
   ],
   "source": [
    "motorcycles = ['honda', 'yamaha', 'suzuki']\n",
    "print(motorcycles)\n",
    "\n",
    "motorcycles.remove('honda')\n",
    "print(motorcycles)"
   ]
  },
  {
   "cell_type": "code",
   "execution_count": 64,
   "id": "eaa8cc4e",
   "metadata": {},
   "outputs": [
    {
     "name": "stdout",
     "output_type": "stream",
     "text": [
      "['honda', 'yamaha', 'suzuki']\n",
      "['yamaha', 'suzuki']\n",
      "\n",
      "A Honda is too expensive for me.\n"
     ]
    }
   ],
   "source": [
    "motorcycles = ['honda', 'yamaha', 'suzuki']\n",
    "print(motorcycles)\n",
    "\n",
    "too_expensive = 'honda'\n",
    "motorcycles.remove(too_expensive)\n",
    "print(motorcycles)\n",
    "print(\"\\nA \" + too_expensive.title() + \" is too expensive for me.\")"
   ]
  },
  {
   "cell_type": "code",
   "execution_count": 79,
   "id": "ec6afd89",
   "metadata": {},
   "outputs": [
    {
     "name": "stdout",
     "output_type": "stream",
     "text": [
      "I would like to invite amily to my party.\n",
      "I would like to invite bill to my party.\n",
      "I would like to invite cris to my party.\n",
      "bill\n",
      "['amily', 'ben', 'cris']\n",
      "['apple', 'amily', 'ben', 'cris']\n",
      "['apple', 'cat', 'amily', 'ben', 'cris']\n",
      "['apple', 'cat', 'amily', 'ben', 'cris', 'dog']\n",
      "Sorry for being disabled to invite dog.\n",
      "['cat', 'amily', 'ben', 'cris']\n"
     ]
    }
   ],
   "source": [
    "guests = ['amily', 'bill', 'cris']\n",
    "print(\"I would like to invite \" + guests[0] + \" to my party.\")\n",
    "print(\"I would like to invite \" + guests[1] + \" to my party.\")\n",
    "print(\"I would like to invite \" + guests[2] + \" to my party.\")\n",
    "\n",
    "absence = 'bill'\n",
    "print(absence)\n",
    "\n",
    "guests[1] = 'ben'\n",
    "print(guests)\n",
    "\n",
    "guests.insert(0, 'apple')\n",
    "print(guests)\n",
    "\n",
    "guests.insert(1, 'cat')\n",
    "print(guests)\n",
    "\n",
    "guests.append('dog')\n",
    "print(guests)\n",
    "\n",
    "popped = guests.pop()\n",
    "print(\"Sorry for being disabled to invite \" + popped + '.')\n",
    "\n",
    "del guests[0]\n",
    "print(guests)"
   ]
  },
  {
   "cell_type": "code",
   "execution_count": null,
   "id": "eda6c918",
   "metadata": {},
   "outputs": [
    {
     "name": "stdout",
     "output_type": "stream",
     "text": [
      "['audi', 'bmw', 'subaru', 'toyota']\n",
      "['toyota', 'subaru', 'bmw', 'audi']\n"
     ]
    }
   ],
   "source": [
    "cars = ['bmw', 'audi', 'toyota', 'subaru']\n",
    "\n",
    "cars.sort()\n",
    "print(cars)\n",
    "cars.sort(reverse = True)\n",
    "print(cars)\n",
    "\n"
   ]
  },
  {
   "cell_type": "code",
   "execution_count": 85,
   "id": "1cb92c90",
   "metadata": {},
   "outputs": [
    {
     "name": "stdout",
     "output_type": "stream",
     "text": [
      "Here is the original list:\n",
      "['bmw', 'audi', 'toyota', 'subaru']\n",
      "\n",
      "Here is the sorted list:\n",
      "['toyota', 'subaru', 'bmw', 'audi']\n",
      "\n",
      "Here is the original list:\n",
      "['bmw', 'audi', 'toyota', 'subaru']\n"
     ]
    }
   ],
   "source": [
    "cars = ['bmw', 'audi', 'toyota', 'subaru']\n",
    "\n",
    "print(\"Here is the original list:\")\n",
    "print(cars)\n",
    "\n",
    "print(\"\\nHere is the sorted list:\")\n",
    "print(sorted(cars, reverse = True))\n",
    "\n",
    "print(\"\\nHere is the original list:\")\n",
    "print(cars)"
   ]
  },
  {
   "cell_type": "code",
   "execution_count": 88,
   "id": "55665970",
   "metadata": {},
   "outputs": [
    {
     "name": "stdout",
     "output_type": "stream",
     "text": [
      "['bmw', 'audi', 'toyota', 'subaru']\n",
      "['subaru', 'toyota', 'audi', 'bmw']\n",
      "4\n"
     ]
    }
   ],
   "source": [
    "cars = ['bmw', 'audi', 'toyota', 'subaru']\n",
    "print(cars)\n",
    "\n",
    "cars.reverse()\n",
    "print(cars)\n",
    "\n",
    "print(len(cars))"
   ]
  },
  {
   "cell_type": "code",
   "execution_count": null,
   "id": "dc0f1c78",
   "metadata": {},
   "outputs": [
    {
     "name": "stdout",
     "output_type": "stream",
     "text": [
      "['China', 'England', 'Britain', 'America', 'Dutch']\n",
      "['America', 'Britain', 'China', 'Dutch', 'England']\n",
      "['China', 'England', 'Britain', 'America', 'Dutch']\n",
      "['England', 'Dutch', 'China', 'Britain', 'America']\n",
      "['China', 'England', 'Britain', 'America', 'Dutch']\n",
      "['Dutch', 'America', 'Britain', 'England', 'China']\n",
      "['China', 'England', 'Britain', 'America', 'Dutch']\n",
      "['America', 'Britain', 'China', 'Dutch', 'England']\n",
      "['England', 'Dutch', 'China', 'Britain', 'America']\n",
      "5\n"
     ]
    }
   ],
   "source": [
    "# book P.41\n",
    "places = ['China', 'England', 'Britain', 'America', 'Dutch']\n",
    "print(places)\n",
    "\n",
    "print(sorted(places))\n",
    "print(places)\n",
    "\n",
    "print(sorted(places, reverse = True))\n",
    "print(places)\n",
    "\n",
    "places.reverse()\n",
    "print(places)\n",
    "\n",
    "places.reverse()\n",
    "print(places)\n",
    "\n",
    "places.sort()\n",
    "print(places)\n",
    "\n",
    "places.sort(reverse = True)\n",
    "print(places)\n",
    "\n",
    "print(len(places))"
   ]
  },
  {
   "cell_type": "code",
   "execution_count": 100,
   "id": "df9225e1",
   "metadata": {},
   "outputs": [
    {
     "name": "stdout",
     "output_type": "stream",
     "text": [
      "Alice, that was ga great trick!\n",
      "I can't wait to see your next trick, Alice\n",
      "\n",
      "David, that was ga great trick!\n",
      "I can't wait to see your next trick, David\n",
      "\n",
      "Carolina, that was ga great trick!\n",
      "I can't wait to see your next trick, Carolina\n",
      "\n"
     ]
    }
   ],
   "source": [
    "# Chapter 4\n",
    "magicians = ['alice', 'david', 'carolina']\n",
    "for magician in magicians:\n",
    "    # print(magician)\n",
    "    print(magician.title() + \", that was ga great trick!\")\n",
    "    print(\"I can't wait to see your next trick, \" + magician.title() + \"\\n\")"
   ]
  },
  {
   "cell_type": "code",
   "execution_count": 142,
   "id": "f0d0b1bf",
   "metadata": {},
   "outputs": [
    {
     "name": "stdout",
     "output_type": "stream",
     "text": [
      "I like apple pizza\n",
      "I like banana pizza\n",
      "I like cherry pizza\n",
      "I really love pizza.\n",
      "['apple', 'banana', 'cherry']\n",
      "['apple', 'banana', 'cherry', 'grape']\n"
     ]
    }
   ],
   "source": [
    "# 4.2\n",
    "pizzas = ['apple', 'banana', 'cherry']\n",
    "for pizza in pizzas:\n",
    "    print(\"I like \" + pizza + ' pizza')\n",
    "print('I really love pizza.')\n",
    "\n",
    "friend_pizzas = pizzas[:]\n",
    "friend_pizzas.append('grape')\n",
    "\n",
    "print(pizzas)\n",
    "print(friend_pizzas)"
   ]
  },
  {
   "cell_type": "code",
   "execution_count": 109,
   "id": "9e66ce5e",
   "metadata": {},
   "outputs": [
    {
     "name": "stdout",
     "output_type": "stream",
     "text": [
      "A cat would make a great pet\n",
      "A dog would make a great pet\n",
      "A rabbit would make a great pet\n",
      "Any of these animals would make a great pet.\n"
     ]
    }
   ],
   "source": [
    "animals = ['cat', 'dog', 'rabbit']\n",
    "for animal in animals:\n",
    "    print('A ' + animal + ' would make a great pet')\n",
    "print('Any of these animals would make a great pet.')"
   ]
  },
  {
   "cell_type": "code",
   "execution_count": 111,
   "id": "65065ed7",
   "metadata": {},
   "outputs": [
    {
     "name": "stdout",
     "output_type": "stream",
     "text": [
      "1\n",
      "2\n",
      "3\n",
      "4\n"
     ]
    }
   ],
   "source": [
    "# 4.3\n",
    "for value in range(1, 5):\n",
    "    print(value)"
   ]
  },
  {
   "cell_type": "code",
   "execution_count": 112,
   "id": "45084fa9",
   "metadata": {},
   "outputs": [
    {
     "name": "stdout",
     "output_type": "stream",
     "text": [
      "[1, 2, 3, 4, 5]\n"
     ]
    }
   ],
   "source": [
    "numbers = list(range(1, 6))\n",
    "print(numbers)"
   ]
  },
  {
   "cell_type": "code",
   "execution_count": 113,
   "id": "6c986af6",
   "metadata": {},
   "outputs": [
    {
     "name": "stdout",
     "output_type": "stream",
     "text": [
      "[2, 4, 6, 8, 10]\n"
     ]
    }
   ],
   "source": [
    "even_numbers = list(range(2, 11, 2))\n",
    "print(even_numbers)"
   ]
  },
  {
   "cell_type": "code",
   "execution_count": 114,
   "id": "1c6b5988",
   "metadata": {},
   "outputs": [
    {
     "name": "stdout",
     "output_type": "stream",
     "text": [
      "[1, 4, 9, 16, 25, 36, 49, 64, 81, 100]\n"
     ]
    }
   ],
   "source": [
    "squares = []\n",
    "for value in range(1, 11):\n",
    "    square = value ** 2\n",
    "    squares.append(square)\n",
    "print(squares)"
   ]
  },
  {
   "cell_type": "code",
   "execution_count": 115,
   "id": "a997aa48",
   "metadata": {},
   "outputs": [
    {
     "name": "stdout",
     "output_type": "stream",
     "text": [
      "[1, 4, 9, 16, 25, 36, 49, 64, 81, 100]\n"
     ]
    }
   ],
   "source": [
    "squares = []\n",
    "for value in range(1, 11):\n",
    "    squares.append(value ** 2)\n",
    "print(squares)"
   ]
  },
  {
   "cell_type": "code",
   "execution_count": 117,
   "id": "d1294e92",
   "metadata": {},
   "outputs": [
    {
     "name": "stdout",
     "output_type": "stream",
     "text": [
      "[1, 2, 3, 4, 5, 6, 7, 8, 9, 0]\n",
      "0\n",
      "9\n",
      "45\n"
     ]
    }
   ],
   "source": [
    "digits = list(range(1, 10))\n",
    "digits.append(0)\n",
    "print(digits)\n",
    "\n",
    "print(min(digits))\n",
    "print(max(digits))\n",
    "print(sum(digits))"
   ]
  },
  {
   "cell_type": "code",
   "execution_count": 118,
   "id": "a04e33f9",
   "metadata": {},
   "outputs": [
    {
     "name": "stdout",
     "output_type": "stream",
     "text": [
      "[1, 4, 9, 16, 25, 36, 49, 64, 81, 100]\n"
     ]
    }
   ],
   "source": [
    "squares = [value ** 2 for value in range(1, 11)]\n",
    "print(squares)"
   ]
  },
  {
   "cell_type": "code",
   "execution_count": 119,
   "id": "88cbbbc8",
   "metadata": {},
   "outputs": [
    {
     "name": "stdout",
     "output_type": "stream",
     "text": [
      "1\n",
      "2\n",
      "3\n",
      "4\n",
      "5\n",
      "6\n",
      "7\n",
      "8\n",
      "9\n",
      "10\n",
      "11\n",
      "12\n",
      "13\n",
      "14\n",
      "15\n",
      "16\n",
      "17\n",
      "18\n",
      "19\n",
      "20\n"
     ]
    }
   ],
   "source": [
    "for value in range(1, 21):\n",
    "    print(value)"
   ]
  },
  {
   "cell_type": "code",
   "execution_count": 121,
   "id": "034e9e81",
   "metadata": {},
   "outputs": [
    {
     "name": "stdout",
     "output_type": "stream",
     "text": [
      "1\n",
      "1000000\n",
      "500000500000\n"
     ]
    }
   ],
   "source": [
    "numbers = list(range(1, 1000001))\n",
    "print(min(numbers))\n",
    "print(max(numbers))\n",
    "print(sum(numbers))"
   ]
  },
  {
   "cell_type": "code",
   "execution_count": 124,
   "id": "9093609b",
   "metadata": {},
   "outputs": [
    {
     "name": "stdout",
     "output_type": "stream",
     "text": [
      "3\n",
      "6\n",
      "9\n",
      "12\n",
      "15\n",
      "18\n",
      "21\n",
      "24\n",
      "27\n",
      "30\n"
     ]
    }
   ],
   "source": [
    "three_numbers = list(range(3, 31, 3))\n",
    "for value in three_numbers:\n",
    "    print(value)"
   ]
  },
  {
   "cell_type": "code",
   "execution_count": 126,
   "id": "1534f6fc",
   "metadata": {},
   "outputs": [
    {
     "name": "stdout",
     "output_type": "stream",
     "text": [
      "[1, 8, 27, 64, 125, 216, 343, 512, 729, 1000]\n"
     ]
    }
   ],
   "source": [
    "cubes = []\n",
    "for value in range(1, 11):\n",
    "    cubes.append(value ** 3)\n",
    "\n",
    "print(cubes)"
   ]
  },
  {
   "cell_type": "code",
   "execution_count": 129,
   "id": "4aecc770",
   "metadata": {},
   "outputs": [
    {
     "name": "stdout",
     "output_type": "stream",
     "text": [
      "[1, 8, 27, 64, 125, 216, 343, 512, 729, 1000]\n"
     ]
    }
   ],
   "source": [
    "cubes = [value ** 3 for value in range(1, 11)]\n",
    "print(cubes)"
   ]
  },
  {
   "cell_type": "code",
   "execution_count": 141,
   "id": "da692808",
   "metadata": {},
   "outputs": [
    {
     "name": "stdout",
     "output_type": "stream",
     "text": [
      "['charles', 'matina', 'michael']\n",
      "['matina', 'michael', 'florence']\n",
      "['charles', 'matina', 'michael', 'florence']\n",
      "['michael', 'florence', 'eli']\n",
      "['michael', 'florence', 'eli']\n",
      "Here are the first three players on my team:\n",
      "Charles\n",
      "Matina\n",
      "Michael\n",
      "The last three items in the list are:\n",
      "Michael\n",
      "Florence\n",
      "Eli\n"
     ]
    }
   ],
   "source": [
    "# 4.4\n",
    "players = ['charles', 'matina', 'michael', 'florence', 'eli']\n",
    "print(players[0:3])\n",
    "print(players[1:4])\n",
    "print(players[:4])\n",
    "print(players[2:])\n",
    "print(players[-3:])\n",
    "\n",
    "print(\"Here are the first three players on my team:\")\n",
    "for player in players[:3]:\n",
    "    print(player.title())\n",
    "\n",
    "print(\"The last three items in the list are:\")\n",
    "for player in players[-3:]:\n",
    "    print(player.title())"
   ]
  },
  {
   "cell_type": "code",
   "execution_count": 143,
   "id": "93463835",
   "metadata": {},
   "outputs": [
    {
     "name": "stdout",
     "output_type": "stream",
     "text": [
      "My favorite foods are:\n",
      "['pizza', 'falafel', 'carrot cake', 'cannoli']\n",
      "My friend's favorites foods are:\n",
      "['pizza', 'falafel', 'carrot cake', 'ice cream']\n",
      "pizza\n",
      "falafel\n",
      "carrot cake\n",
      "cannoli\n"
     ]
    }
   ],
   "source": [
    "my_foods = ['pizza', 'falafel', 'carrot cake']\n",
    "friend_foods = my_foods[:]\n",
    "\n",
    "my_foods.append('cannoli')\n",
    "friend_foods.append('ice cream')\n",
    "\n",
    "print(\"My favorite foods are:\")\n",
    "print(my_foods)\n",
    "\n",
    "print(\"My friend's favorites foods are:\")\n",
    "print(friend_foods)\n",
    "\n",
    "for food in my_foods:\n",
    "    print(food)"
   ]
  },
  {
   "cell_type": "code",
   "execution_count": 150,
   "id": "c13fe261",
   "metadata": {},
   "outputs": [
    {
     "name": "stdout",
     "output_type": "stream",
     "text": [
      "200\n",
      "50\n",
      "200\n",
      "50\n",
      "(400, 100)\n"
     ]
    }
   ],
   "source": [
    "# 4.5 元组\n",
    "dimensions = (200, 50)\n",
    "print(dimensions[0])\n",
    "print(dimensions[1])\n",
    "\n",
    "for dimension in dimensions:\n",
    "    print(dimension)\n",
    "\n",
    "dimensions = (400, 100)\n",
    "print(dimensions)"
   ]
  },
  {
   "cell_type": "code",
   "execution_count": 153,
   "id": "336a2327",
   "metadata": {},
   "outputs": [
    {
     "name": "stdout",
     "output_type": "stream",
     "text": [
      "apple\n",
      "banana\n",
      "cherry\n",
      "pear\n",
      "grape\n",
      "apples\n",
      "bananas\n",
      "cherry\n",
      "pear\n",
      "grape\n"
     ]
    }
   ],
   "source": [
    "foods = ('apple', 'banana', 'cherry', 'pear', 'grape')\n",
    "\n",
    "for food in foods:\n",
    "    print(food)\n",
    "\n",
    "foods = ('apples', 'bananas', 'cherry', 'pear', 'grape')\n",
    "\n",
    "for food in foods:\n",
    "    print(food)"
   ]
  }
 ],
 "metadata": {
  "kernelspec": {
   "display_name": "Python 3",
   "language": "python",
   "name": "python3"
  },
  "language_info": {
   "codemirror_mode": {
    "name": "ipython",
    "version": 3
   },
   "file_extension": ".py",
   "mimetype": "text/x-python",
   "name": "python",
   "nbconvert_exporter": "python",
   "pygments_lexer": "ipython3",
   "version": "3.13.4"
  }
 },
 "nbformat": 4,
 "nbformat_minor": 5
}
