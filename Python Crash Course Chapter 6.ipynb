{
 "cells": [
  {
   "cell_type": "code",
   "execution_count": null,
   "id": "bc8ec36f",
   "metadata": {},
   "outputs": [
    {
     "name": "stdout",
     "output_type": "stream",
     "text": [
      "green\n",
      "5\n"
     ]
    }
   ],
   "source": [
    "# chapter 6  字典\n",
    "alien_0 = {'color': 'green', 'points': 5}\n",
    "\n",
    "print(alien_0['color'])\n",
    "print(alien_0['points'])"
   ]
  },
  {
   "cell_type": "code",
   "execution_count": 3,
   "id": "6301fa4c",
   "metadata": {},
   "outputs": [
    {
     "name": "stdout",
     "output_type": "stream",
     "text": [
      "green\n"
     ]
    }
   ],
   "source": [
    "alien_0 = {'color': 'green'}\n",
    "print(alien_0['color'])"
   ]
  },
  {
   "cell_type": "code",
   "execution_count": 1,
   "id": "3cd3ac7e",
   "metadata": {},
   "outputs": [
    {
     "name": "stdout",
     "output_type": "stream",
     "text": [
      "{'color': 'green', 'points': 5}\n",
      "{'color': 'green', 'points': 5, 'x_position': 0, 'y_position': 25}\n"
     ]
    }
   ],
   "source": [
    "alien_0 = {'color': 'green', 'points': 5}\n",
    "print(alien_0)\n",
    "\n",
    "alien_0['x_position'] = 0\n",
    "alien_0['y_position'] = 25\n",
    "print(alien_0)"
   ]
  },
  {
   "cell_type": "code",
   "execution_count": 3,
   "id": "0defd94a",
   "metadata": {},
   "outputs": [
    {
     "name": "stdout",
     "output_type": "stream",
     "text": [
      "{'color': 'green', 'points': 5}\n"
     ]
    }
   ],
   "source": [
    "alien_0 = {}\n",
    "\n",
    "alien_0['color'] = 'green'\n",
    "alien_0['points'] = 5\n",
    "\n",
    "print(alien_0)"
   ]
  },
  {
   "cell_type": "code",
   "execution_count": 5,
   "id": "b6e4b40e",
   "metadata": {},
   "outputs": [
    {
     "name": "stdout",
     "output_type": "stream",
     "text": [
      "green\n",
      "red\n"
     ]
    }
   ],
   "source": [
    "alien_0 = {'color': 'green'}\n",
    "print(alien_0['color'])\n",
    "\n",
    "alien_0['color'] = 'red'\n",
    "print(alien_0['color'])"
   ]
  },
  {
   "cell_type": "code",
   "execution_count": 13,
   "id": "d5efc994",
   "metadata": {},
   "outputs": [
    {
     "name": "stdout",
     "output_type": "stream",
     "text": [
      "Original x-position: 0\n",
      "New x-position: 2\n"
     ]
    }
   ],
   "source": [
    "alien_0 = {'x_position': 0, 'y_position': 25, 'speed': 'medium'}\n",
    "print('Original x-position: ' + str(alien_0['x_position']))\n",
    "\n",
    "if alien_0['speed'] == 'slow':\n",
    "    x_increment = 1\n",
    "elif alien_0['speed'] == 'medium':\n",
    "    x_increment = 2\n",
    "else:\n",
    "    x_increment = 3\n",
    "\n",
    "alien_0['x_position'] += x_increment\n",
    "\n",
    "print('New x-position: ' + str(alien_0['x_position']))"
   ]
  },
  {
   "cell_type": "code",
   "execution_count": null,
   "id": "53301cb5",
   "metadata": {},
   "outputs": [
    {
     "name": "stdout",
     "output_type": "stream",
     "text": [
      "{'color': 'green', 'points': 5}\n",
      "{'color': 'green'}\n"
     ]
    }
   ],
   "source": [
    "alien_0 = {'color': 'green', 'points': 5}\n",
    "print(alien_0)\n",
    "\n",
    "# 删除字典中的一个对应\n",
    "del alien_0['points']\n",
    "print(alien_0)"
   ]
  },
  {
   "cell_type": "code",
   "execution_count": 20,
   "id": "f950332f",
   "metadata": {},
   "outputs": [
    {
     "name": "stdout",
     "output_type": "stream",
     "text": [
      "{'jen': 'python', 'sarah': 'c', 'edward': 'ruby', 'phil': 'python'}\n",
      "Sarah's favorite language is C.\n"
     ]
    }
   ],
   "source": [
    "favorite_languages = {\n",
    "    'jen': 'python',\n",
    "    'sarah': 'c',\n",
    "    'edward': 'ruby',\n",
    "    'phil': 'python',\n",
    "}\n",
    "print(favorite_languages)\n",
    "\n",
    "print(\"Sarah's favorite language is \" +\n",
    "      favorite_languages['sarah'].title() + '.')"
   ]
  },
  {
   "cell_type": "code",
   "execution_count": 23,
   "id": "2a4d9ac7",
   "metadata": {},
   "outputs": [
    {
     "name": "stdout",
     "output_type": "stream",
     "text": [
      "Shanghai\n"
     ]
    }
   ],
   "source": [
    "informations = {\n",
    "    'first_name': 'william',\n",
    "    'last_name': 'lu',\n",
    "    'age': 18,\n",
    "    'city': 'shanghai',\n",
    "}\n",
    "print(informations['city'].title())"
   ]
  },
  {
   "cell_type": "code",
   "execution_count": 29,
   "id": "e7540213",
   "metadata": {},
   "outputs": [
    {
     "name": "stdout",
     "output_type": "stream",
     "text": [
      "and: conjuction\n",
      "\n",
      "or: one is enough\n",
      "\n",
      "if: condition\n",
      "\n",
      "while: loop\n",
      "\n",
      "elif: another condition\n",
      "\n"
     ]
    }
   ],
   "source": [
    "glossary = {\n",
    "    'and': 'conjuction',\n",
    "    'or': 'one is enough',\n",
    "    'if': 'condition',\n",
    "    'while': 'loop',\n",
    "    'elif': 'another condition'\n",
    "}\n",
    "\n",
    "for key, value in glossary.items():\n",
    "    print(key + ': ' + value + '\\n')"
   ]
  },
  {
   "cell_type": "code",
   "execution_count": 36,
   "id": "98cb5a8c",
   "metadata": {},
   "outputs": [
    {
     "name": "stdout",
     "output_type": "stream",
     "text": [
      "\n",
      "Key = username\n",
      "\n",
      "Value = efermi\n",
      "\n",
      "Key = first\n",
      "\n",
      "Value = enrico\n",
      "\n",
      "Key = last\n",
      "\n",
      "Value = fermi\n"
     ]
    }
   ],
   "source": [
    "user_0 = {\n",
    "    'username': 'efermi',\n",
    "    'first': 'enrico',\n",
    "    'last': 'fermi',\n",
    "}\n",
    "\n",
    "for key, value in user_0.items():\n",
    "    print('\\nKey = ' + key)\n",
    "    print('\\nValue = ' + value)"
   ]
  },
  {
   "cell_type": "code",
   "execution_count": 37,
   "id": "9aee542e",
   "metadata": {},
   "outputs": [
    {
     "name": "stdout",
     "output_type": "stream",
     "text": [
      "Jen\n",
      "Sarah\n",
      "Edward\n",
      "Phil\n",
      "C\n",
      "Python\n",
      "Python\n",
      "Ruby\n"
     ]
    }
   ],
   "source": [
    "for name in favorite_languages.keys():\n",
    "    print(name.title())\n",
    "\n",
    "for name in sorted(favorite_languages.values()):\n",
    "    print(name.title())"
   ]
  },
  {
   "cell_type": "code",
   "execution_count": 39,
   "id": "4abeef6f",
   "metadata": {},
   "outputs": [
    {
     "name": "stdout",
     "output_type": "stream",
     "text": [
      "ruby\n",
      "c\n",
      "python\n"
     ]
    }
   ],
   "source": [
    "# set()函数去重\n",
    "for language in set(favorite_languages.values()):\n",
    "    print(language)"
   ]
  },
  {
   "cell_type": "code",
   "execution_count": 42,
   "id": "a2b950fc",
   "metadata": {},
   "outputs": [
    {
     "name": "stdout",
     "output_type": "stream",
     "text": [
      "nile is in egypt\n",
      "a is in A\n",
      "b is in B\n",
      "nile\n",
      "a\n",
      "b\n",
      "egypt\n",
      "A\n",
      "B\n"
     ]
    }
   ],
   "source": [
    "rivers = {\n",
    "    'nile': 'egypt',\n",
    "    'a': 'A',\n",
    "    'b': 'B',\n",
    "}\n",
    "\n",
    "for river, country in rivers.items():\n",
    "    print(river +\n",
    "          ' is in ' + country)\n",
    "\n",
    "for river in rivers.keys():\n",
    "    print(river)\n",
    "\n",
    "for country in rivers.values():\n",
    "    print(country)"
   ]
  },
  {
   "cell_type": "code",
   "execution_count": 43,
   "id": "e797b2ae",
   "metadata": {},
   "outputs": [
    {
     "name": "stdout",
     "output_type": "stream",
     "text": [
      "{'color': 'green', 'points': 5}\n",
      "{'color': 'yellow', 'points': 10}\n",
      "{'color': 'red', 'points': 15}\n"
     ]
    }
   ],
   "source": [
    "alien_0 = {'color': 'green', \"points\": 5}\n",
    "alien_1 = {'color': 'yellow', \"points\": 10}\n",
    "alien_2 = {'color': 'red', \"points\": 15}\n",
    "\n",
    "aliens = [alien_0, alien_1, alien_2]\n",
    "\n",
    "for alien in aliens:\n",
    "    print(alien)"
   ]
  },
  {
   "cell_type": "code",
   "execution_count": 49,
   "id": "c74aac02",
   "metadata": {},
   "outputs": [
    {
     "name": "stdout",
     "output_type": "stream",
     "text": [
      "{'color': 'green', 'points': 5, 'speed': 'slow'}\n",
      "{'color': 'green', 'points': 5, 'speed': 'slow'}\n",
      "{'color': 'green', 'points': 5, 'speed': 'slow'}\n",
      "{'color': 'green', 'points': 5, 'speed': 'slow'}\n",
      "{'color': 'green', 'points': 5, 'speed': 'slow'}\n",
      "...\n",
      "30\n"
     ]
    }
   ],
   "source": [
    "aliens = []\n",
    "# print(list(range(30)))\n",
    "for alien_numbe in range(30):\n",
    "    new_alien = {'color': 'green', 'points': 5, 'speed': 'slow'}\n",
    "    aliens.append(new_alien)\n",
    "\n",
    "for alien in aliens[:5]:\n",
    "    print(alien)\n",
    "print(\"...\")\n",
    "\n",
    "print(len(aliens))"
   ]
  },
  {
   "cell_type": "code",
   "execution_count": 50,
   "id": "0edcc8b9",
   "metadata": {},
   "outputs": [
    {
     "name": "stdout",
     "output_type": "stream",
     "text": [
      "{'color': 'yellow', 'points': 10, 'speed': 'medium'}\n",
      "{'color': 'yellow', 'points': 10, 'speed': 'medium'}\n",
      "{'color': 'yellow', 'points': 10, 'speed': 'medium'}\n",
      "{'color': 'green', 'points': 5, 'speed': 'slow'}\n",
      "{'color': 'green', 'points': 5, 'speed': 'slow'}\n"
     ]
    }
   ],
   "source": [
    "for alien in aliens[0:3]:\n",
    "    if alien['color'] == 'green':\n",
    "        alien['color'] = 'yellow'\n",
    "        alien['speed'] = 'medium'\n",
    "        alien['points'] = 10\n",
    "\n",
    "for alien in aliens[:5]:\n",
    "    print(alien)"
   ]
  },
  {
   "cell_type": "code",
   "execution_count": 51,
   "id": "f10b5995",
   "metadata": {},
   "outputs": [
    {
     "name": "stdout",
     "output_type": "stream",
     "text": [
      "thick\n",
      "\tmushroom\n",
      "\textra cheese\n"
     ]
    }
   ],
   "source": [
    "pizza = {\n",
    "    'crust': 'thick',\n",
    "    'toppings': ['mushroom', 'extra cheese'],\n",
    "}\n",
    "\n",
    "print(pizza['crust'])\n",
    "\n",
    "for topping in pizza['toppings']:\n",
    "    print('\\t' + topping)"
   ]
  },
  {
   "cell_type": "code",
   "execution_count": 53,
   "id": "0a04c237",
   "metadata": {},
   "outputs": [
    {
     "name": "stdout",
     "output_type": "stream",
     "text": [
      "Jen: \n",
      "\tPython\n",
      "\tRuby\n",
      "Sarah: \n",
      "\tC\n",
      "Edward: \n",
      "\tRuby\n",
      "\tGo\n",
      "Phil: \n",
      "\tPython\n",
      "\tHaskell\n"
     ]
    }
   ],
   "source": [
    "favorite_languages = {\n",
    "    'jen': ['python', 'ruby'],\n",
    "    'sarah': ['c'],\n",
    "    'edward': ['ruby', 'go'],\n",
    "    'phil': ['python', 'haskell'],\n",
    "}\n",
    "\n",
    "for name, languages in favorite_languages.items():\n",
    "    print(name.title() + ': ')\n",
    "    for language in languages:\n",
    "        print('\\t' + language.title())"
   ]
  },
  {
   "cell_type": "code",
   "execution_count": 56,
   "id": "9901c94b",
   "metadata": {},
   "outputs": [
    {
     "name": "stdout",
     "output_type": "stream",
     "text": [
      "\n",
      "Username: aeinstein\n",
      "\tFull name: Albert Einstein\n",
      "\tLocation: Princeton\n",
      "\n",
      "Username: mcurie\n",
      "\tFull name: Marie Curie\n",
      "\tLocation: Paris\n"
     ]
    }
   ],
   "source": [
    "users = {\n",
    "    'aeinstein': {\n",
    "        'first': 'albert',\n",
    "        'last': 'einstein',\n",
    "        'location': 'princeton',\n",
    "    },\n",
    "\n",
    "    'mcurie': {\n",
    "        'first': 'marie',\n",
    "        'last': 'curie',\n",
    "        'location': 'paris'\n",
    "    },\n",
    "}\n",
    "\n",
    "for username, user_info in users.items():\n",
    "    print('\\nUsername: ' + username)\n",
    "    full_name = user_info['first'] + ' ' + user_info['last']\n",
    "    location = user_info['location']\n",
    "\n",
    "    print(\"\\tFull name: \" + full_name.title())\n",
    "    print(\"\\tLocation: \" + location.title())"
   ]
  },
  {
   "cell_type": "code",
   "execution_count": 60,
   "id": "574c8496",
   "metadata": {},
   "outputs": [
    {
     "name": "stdout",
     "output_type": "stream",
     "text": [
      "a\tA\n",
      "b\tB\n",
      "c\tC\n"
     ]
    }
   ],
   "source": [
    "people_0 = {\n",
    "    'first': 'a',\n",
    "    'last': 'A'\n",
    "}\n",
    "people_1 = {\n",
    "    'first': 'b',\n",
    "    'last': 'B'\n",
    "}\n",
    "people_2 = {\n",
    "    'first': 'c',\n",
    "    'last': 'C'\n",
    "}\n",
    "\n",
    "people = [people_0, people_1, people_2]\n",
    "\n",
    "for person in people:\n",
    "    print(person['first'] + '\\t' + person['last'])"
   ]
  },
  {
   "cell_type": "code",
   "execution_count": 62,
   "id": "401aceaf",
   "metadata": {},
   "outputs": [
    {
     "name": "stdout",
     "output_type": "stream",
     "text": [
      "a\n",
      "\t1\n",
      "\t2\n",
      "\t3\n",
      "b\n",
      "\t4\n",
      "\t5\n",
      "\t6\n"
     ]
    }
   ],
   "source": [
    "favorite_places = {\n",
    "    'a': [1, 2, 3],\n",
    "    'b': [4, 5, 6]\n",
    "}\n",
    "\n",
    "for name, places in favorite_places.items():\n",
    "    print(name)\n",
    "    for place in places:\n",
    "        print('\\t' + str(place))"
   ]
  },
  {
   "cell_type": "code",
   "execution_count": 66,
   "id": "ca88387d",
   "metadata": {},
   "outputs": [
    {
     "name": "stdout",
     "output_type": "stream",
     "text": [
      "shanghai:\n",
      "\tcountry: china\n",
      "\tfact: prosperous\n",
      "new york:\n",
      "\tcountry: america\n",
      "\tfact: metropolitan\n"
     ]
    }
   ],
   "source": [
    "cities = {\n",
    "    'shanghai': {\n",
    "        'country': 'china',\n",
    "        'fact': 'prosperous',\n",
    "    },\n",
    "    'new york': {\n",
    "        'country': 'america',\n",
    "        'fact': 'metropolitan',\n",
    "    },\n",
    "}\n",
    "\n",
    "for city, info in cities.items():\n",
    "    print(city + ':')\n",
    "    for info_key, info_value in info.items():\n",
    "        print('\\t' + info_key + \": \" + info_value)"
   ]
  }
 ],
 "metadata": {
  "kernelspec": {
   "display_name": "Python 3",
   "language": "python",
   "name": "python3"
  },
  "language_info": {
   "codemirror_mode": {
    "name": "ipython",
    "version": 3
   },
   "file_extension": ".py",
   "mimetype": "text/x-python",
   "name": "python",
   "nbconvert_exporter": "python",
   "pygments_lexer": "ipython3",
   "version": "3.13.4"
  }
 },
 "nbformat": 4,
 "nbformat_minor": 5
}
