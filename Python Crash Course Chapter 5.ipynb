{
 "cells": [
  {
   "cell_type": "code",
   "execution_count": 1,
   "id": "dc88714c",
   "metadata": {},
   "outputs": [
    {
     "name": "stdout",
     "output_type": "stream",
     "text": [
      "Audi\n",
      "BMW\n",
      "Subaru\n",
      "Toyuta\n"
     ]
    }
   ],
   "source": [
    "# chapter 5\n",
    "# 5.1\n",
    "cars = ['audi', 'bmw', 'subaru', 'toyuta']\n",
    "\n",
    "for car in cars:\n",
    "    if car == 'bmw':\n",
    "        print(car.upper())\n",
    "    else:\n",
    "        print(car.title())"
   ]
  },
  {
   "cell_type": "code",
   "execution_count": 2,
   "id": "0882777d",
   "metadata": {},
   "outputs": [
    {
     "name": "stdout",
     "output_type": "stream",
     "text": [
      "Hold the anchovies!\n"
     ]
    }
   ],
   "source": [
    "requested_topping = 'mushrooms'\n",
    "\n",
    "if requested_topping != 'anchovies':\n",
    "    print(\"Hold the anchovies!\")"
   ]
  },
  {
   "cell_type": "code",
   "execution_count": 5,
   "id": "ff4ab48a",
   "metadata": {},
   "outputs": [
    {
     "name": "stdout",
     "output_type": "stream",
     "text": [
      "n\n",
      "y\n"
     ]
    }
   ],
   "source": [
    "age_0 = 22\n",
    "age_1 = 18\n",
    "\n",
    "if age_0 >= 21 and age_1 >= 21:\n",
    "    print('y')\n",
    "else:\n",
    "    print('n')\n",
    "\n",
    "if age_0 >= 21 or age_1 >= 21:\n",
    "    print('y')\n",
    "else:\n",
    "    print('n')"
   ]
  },
  {
   "cell_type": "code",
   "execution_count": 6,
   "id": "c92fa38b",
   "metadata": {},
   "outputs": [
    {
     "name": "stdout",
     "output_type": "stream",
     "text": [
      "Marie, you can post a response if you wish\n"
     ]
    }
   ],
   "source": [
    "banned_users = ['andrew', 'carolina', 'david']\n",
    "user = 'marie'\n",
    "\n",
    "if user in banned_users:\n",
    "    print(user.title() + ', you can not post a response if you wish.')\n",
    "\n",
    "if user not in banned_users:\n",
    "    print(user.title() + ', you can post a response if you wish')\n",
    "\n",
    "    "
   ]
  },
  {
   "cell_type": "code",
   "execution_count": 7,
   "id": "dcdad51a",
   "metadata": {},
   "outputs": [
    {
     "name": "stdout",
     "output_type": "stream",
     "text": [
      "Is car == 'subaru'? I predict True.\n",
      "True\n",
      "\n",
      "Is car == 'audi'? I predict False.\n",
      "False\n"
     ]
    }
   ],
   "source": [
    "car = 'subaru'\n",
    "print(\"Is car == 'subaru'? I predict True.\")\n",
    "print(car == 'subaru')\n",
    "\n",
    "print(\"\\nIs car == 'audi'? I predict False.\")\n",
    "print(car == 'audi')"
   ]
  },
  {
   "cell_type": "code",
   "execution_count": 10,
   "id": "f1b3ab18",
   "metadata": {},
   "outputs": [
    {
     "name": "stdout",
     "output_type": "stream",
     "text": [
      "Sorry, you are too young to vote.\n"
     ]
    }
   ],
   "source": [
    "# 5.3\n",
    "age = 17\n",
    "if age >= 18:\n",
    "    print(\"You are old enough to vote!\")\n",
    "else:\n",
    "    print(\"Sorry, you are too young to vote.\")"
   ]
  },
  {
   "cell_type": "code",
   "execution_count": 12,
   "id": "62ee3f6b",
   "metadata": {},
   "outputs": [
    {
     "name": "stdout",
     "output_type": "stream",
     "text": [
      "Your admission cost is $5.\n"
     ]
    }
   ],
   "source": [
    "age = 5\n",
    "if age < 4:\n",
    "    print(\"Your admission cost is $0.\")\n",
    "elif age < 8:\n",
    "    print(\"Your admission cost is $5.\")\n",
    "else:\n",
    "    print('Your admission cost is $10.')"
   ]
  },
  {
   "cell_type": "code",
   "execution_count": 16,
   "id": "50f0bb59",
   "metadata": {},
   "outputs": [
    {
     "name": "stdout",
     "output_type": "stream",
     "text": [
      "You get 5 points!\n"
     ]
    }
   ],
   "source": [
    "alien_color = 'green'\n",
    "\n",
    "if alien_color == 'green':\n",
    "    print('You get 5 points!')\n",
    "elif alien_color == 'yellow':\n",
    "    print('You get 10 points!')\n",
    "elif alien_color == 'red':\n",
    "    print(\"You get 15 points!\")"
   ]
  },
  {
   "cell_type": "code",
   "execution_count": 17,
   "id": "9f9cf439",
   "metadata": {},
   "outputs": [
    {
     "name": "stdout",
     "output_type": "stream",
     "text": [
      "child\n"
     ]
    }
   ],
   "source": [
    "age = 10\n",
    "if age < 2:\n",
    "    print(\"infant\")\n",
    "elif age <4:\n",
    "    print('toddler')\n",
    "elif age < 13:\n",
    "    print(\"child\")\n",
    "elif age < 20:\n",
    "    print('adolescent')\n",
    "elif age < 65:\n",
    "    print('adult')\n",
    "else:\n",
    "    print('elderly')"
   ]
  },
  {
   "cell_type": "code",
   "execution_count": 18,
   "id": "7cc3c02b",
   "metadata": {},
   "outputs": [
    {
     "name": "stdout",
     "output_type": "stream",
     "text": [
      "You really love apples!\n"
     ]
    }
   ],
   "source": [
    "favorite_fruits = ['apple', 'banana', 'grape']\n",
    "\n",
    "if 'apple' in favorite_fruits:\n",
    "    print(\"You really love apples!\")"
   ]
  },
  {
   "cell_type": "code",
   "execution_count": 23,
   "id": "ec462616",
   "metadata": {},
   "outputs": [
    {
     "name": "stdout",
     "output_type": "stream",
     "text": [
      "add mushrooms\n",
      "n\n",
      "add extra cheese\n",
      "\n",
      "finish\n"
     ]
    }
   ],
   "source": [
    "# 5.4\n",
    "requested_toppings = ['mushrooms', 'green peppers', 'extra cheese']\n",
    "\n",
    "for requested_topping in requested_toppings:\n",
    "    if requested_topping == 'green peppers':\n",
    "        print('n')\n",
    "    else:\n",
    "        print(\"add \" + requested_topping)\n",
    "\n",
    "print('\\nfinish')"
   ]
  },
  {
   "cell_type": "code",
   "execution_count": 24,
   "id": "658b8201",
   "metadata": {},
   "outputs": [
    {
     "name": "stdout",
     "output_type": "stream",
     "text": [
      "n\n"
     ]
    }
   ],
   "source": [
    "requested_toppings = []\n",
    "\n",
    "if requested_toppings:\n",
    "    print('y')\n",
    "else:\n",
    "    print('n')\n"
   ]
  },
  {
   "cell_type": "code",
   "execution_count": 26,
   "id": "607c0681",
   "metadata": {},
   "outputs": [
    {
     "name": "stdout",
     "output_type": "stream",
     "text": [
      "y\n",
      "n\n",
      "y\n",
      "\n",
      "finish\n"
     ]
    }
   ],
   "source": [
    "availables = ['mushrooms', 'olives', 'green peppers', \n",
    "              'pepperoni', 'pineapple', 'extra cheese']\n",
    "requesteds = ['mushrooms', 'french fries', 'extra cheese']\n",
    "\n",
    "for requested in requesteds:\n",
    "    if requested in availables:\n",
    "        print('y')\n",
    "    else:\n",
    "        print('n')\n",
    "print('\\nfinish')"
   ]
  },
  {
   "cell_type": "code",
   "execution_count": 28,
   "id": "30e8aa7f",
   "metadata": {},
   "outputs": [
    {
     "name": "stdout",
     "output_type": "stream",
     "text": [
      "y\n",
      "n\n",
      "n\n",
      "n\n",
      "n\n",
      "\n",
      "n\n"
     ]
    }
   ],
   "source": [
    "names = ['admin', 'bill', 'apple', 'david', 'eric']\n",
    "\n",
    "for name in names:\n",
    "    if name == 'admin':\n",
    "        print('y')\n",
    "    else:\n",
    "        print('n')\n",
    "\n",
    "blank = []\n",
    "\n",
    "if blank:\n",
    "    print('\\ny')\n",
    "else:\n",
    "    print('\\nn')"
   ]
  },
  {
   "cell_type": "code",
   "execution_count": 31,
   "id": "846003e0",
   "metadata": {},
   "outputs": [
    {
     "name": "stdout",
     "output_type": "stream",
     "text": [
      "used\n",
      "used\n",
      "used\n",
      "unused\n",
      "unused\n"
     ]
    }
   ],
   "source": [
    "current_users = ['admin', 'bill', 'apple', 'david', 'eric']\n",
    "\n",
    "new_users = ['admin', 'Bill', 'apple', 'william', 'lily']\n",
    "\n",
    "low_currents = [current_user.lower() for current_user in current_users]\n",
    "low_news = [new_user.lower() for new_user in new_users]\n",
    "\n",
    "for low_new in low_news:\n",
    "    if low_new in low_currents:\n",
    "        print(\"used\")\n",
    "    else:\n",
    "        print('unused')"
   ]
  },
  {
   "cell_type": "code",
   "execution_count": null,
   "id": "499b8170",
   "metadata": {},
   "outputs": [],
   "source": []
  }
 ],
 "metadata": {
  "kernelspec": {
   "display_name": "Python 3",
   "language": "python",
   "name": "python3"
  },
  "language_info": {
   "codemirror_mode": {
    "name": "ipython",
    "version": 3
   },
   "file_extension": ".py",
   "mimetype": "text/x-python",
   "name": "python",
   "nbconvert_exporter": "python",
   "pygments_lexer": "ipython3",
   "version": "3.13.4"
  }
 },
 "nbformat": 4,
 "nbformat_minor": 5
}
